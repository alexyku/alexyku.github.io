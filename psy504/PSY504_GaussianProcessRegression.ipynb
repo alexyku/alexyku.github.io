{
 "cells": [
  {
   "cell_type": "markdown",
   "metadata": {
    "id": "-DK99WdyVB-d"
   },
   "source": [
    "# Gaussian Processes Regression in JAX\n",
    "\n",
    "\n",
    "This is a tutorial on Gaussian processes regression ([Rasmussen & Williams, 2006](https://gaussianprocess.org/gpml/chapters/RW.pdf)) in JAX.\n",
    "\n",
    "Follow along in [Google Colab](https://colab.research.google.com/drive/1f82JO7zyuzxUo4vGr0tj5VPM3_KjgtXy)."
   ]
  },
  {
   "cell_type": "markdown",
   "metadata": {
    "id": "UpK1PsnRgE8D"
   },
   "source": [
    "## Distribution over functions\n",
    "\n",
    "Regression is the task of inferring a continuous function from a finite set of noisy function evaluations. We will begin by formalizing the notation. Let $\\mathcal{D} = \\{(x_1, y_1), \\cdots, (x_n, y_n)\\}$ denote a regression dataset where $y_i = f(x_i) + e$ where $e$ is some noise term.\n",
    "\n",
    "The goal of regression is to find some function $f(x;\\theta)\\approx y$ where the parameters to this function $\\theta$ are learned from the data $\\mathcal D$. Like parametric density estimation, most regression models assume the function has a simple parametric form (e.g., linear, polynomial).\n",
    "\n",
    "Gaussian process regression takes a different approach. It forgoes these assumptions, and instead invokes a distribution over functions and computes the posterior distribution $p(f|\\mathcal{D})$. Prediction is done by marginalize over the space of latent functions.\n",
    "\n",
    "$$\n",
    "p(y_*|x_*, \\mathcal D) = \\int p(y_*|f,x_*)p(f|\\mathcal{D})df\n",
    "$$\n",
    "\n",
    "Where $y_*$ and $x_*$ denote the index points over which the predictive distribution is defined. Gaussian process regression assume the prior $p(f) \\sim GP(m, k)$ is a Gaussian process with a mean function $m(x)$ and kernel $k(x,x')$.\n",
    "It is common to set $m(x) = 0$ as most of the expressiveness of a Gaussian process comes from the kernel. The most popular kernel for Gaussian processes is the squared exponential kernel.\n",
    "\n",
    "$$\n",
    "k(x,x') = \\frac{1}{\\ell\\sqrt{2\\pi}}\\exp\\left(-\\frac{(x-x')^\\top(x-x')}{2\\ell^2}\\right)\n",
    "$$\n",
    "\n",
    "Where $\\ell$ is the lengthscale.\n",
    "\n",
    "For convenience of notation, we will denote the bundle the data as $X = (x_1, \\cdots, x_n)$ and $Y=(y_1,\\cdots,y_n)$. Gaussian processes bear their name because they define any finite set of function values is jointly Gaussian.\n",
    "\n",
    "\n",
    "\\begin{align*}\n",
    "Y \\sim p(f_X) = \\mathcal{N}(\\mu_X,K_X)\n",
    "\\end{align*}\n",
    "\n",
    "And any new data is jointly Gaussian with the old data.\n",
    "\n",
    "\\begin{align*}\n",
    "\\begin{pmatrix} Y \\\\ y_* \\end{pmatrix}\n",
    "\\sim\n",
    "\\mathcal N\n",
    "\\left(\n",
    "\\begin{pmatrix} \\mu_X \\\\ \\mu_* \\end{pmatrix},\n",
    "\\begin{pmatrix}\n",
    "K_X & K_{X*} \\\\\n",
    "K_{X*}^\\top & K_*\n",
    "\\end{pmatrix}\n",
    "\\right)\n",
    "\\end{align*}\n",
    "\n",
    "Where $f_X = f(X)$, $\\mu_X = m(X)$, $\\mu_* = m(x_*)$, $K_X = k(X, X)$, $K_{X*} = k(X,x_*)$, and $K_* = k(x_*,x_*)$. Because Gaussians are closed under conditioning and marginalization, the posterior predictive distribution is also Gaussian.\n",
    "\n",
    "\\begin{align*}\n",
    "p(y_*|x_*, \\mathcal{D}) &= \\mathcal N(\\mu_{\\mathcal D},\\Sigma_{\\mathcal D}) \\\\\n",
    "\\mu_{\\mathcal D} &= \\mu_* + K_{X*}^\\top K_X^{-1}(Y - \\mu_X) \\\\\n",
    "\\Sigma_{\\mathcal D} &= K_* - K_{X*}^\\top K_X^{-1}K_{X*}\n",
    "\\end{align*}\n",
    "\n",
    "Crucially, the variability in the sample posterior functions is a measure of epistemic uncertainty. That is to say, high variability tells us that there are many possible values the true function could take. This uncertainty is [epistemic](https://en.wikipedia.org/wiki/Uncertainty_quantification#Aleatoric_and_epistemic) because it can be reduced by observing more data.\n"
   ]
  },
  {
   "cell_type": "markdown",
   "metadata": {
    "id": "dWwKW_rugCR4"
   },
   "source": [
    "\n",
    "## Implementing a Gaussian process\n",
    "\n",
    "In this exercise, we will implement a Gaussian process from scratch in [JAX](https://en.wikipedia.org/wiki/Google_JAX)."
   ]
  },
  {
   "cell_type": "code",
   "execution_count": null,
   "metadata": {
    "id": "6JcfmdFSgb-e"
   },
   "outputs": [],
   "source": [
    "import functools\n",
    "import jax\n",
    "import jax.numpy as jnp\n",
    "import jax.scipy as jsp\n",
    "import jax.scipy.linalg as jspla\n",
    "\n",
    "vmap = jax.vmap"
   ]
  },
  {
   "cell_type": "markdown",
   "metadata": {
    "id": "gQ9MwsvgiotT"
   },
   "source": [
    "Let us begin by implementing some utility functions to manage hyperparameters."
   ]
  },
  {
   "cell_type": "code",
   "execution_count": null,
   "metadata": {
    "id": "S1GwVAnsU61r"
   },
   "outputs": [],
   "source": [
    "def _verify_params(model_params, expected_keys):\n",
    "  \"\"\"Verify that dictionary params has the expected keys.\"\"\"\n",
    "  if not set(expected_keys).issubset(set(model_params.keys())):\n",
    "    raise ValueError(\n",
    "        f'Expected parameters are {sorted(expected_keys)}, '\n",
    "        f'but received {sorted(model_params.keys())}.'\n",
    "    )\n",
    "\n",
    "\n",
    "def retrieve_params(params, keys, warp_func):\n",
    "  \"\"\"Returns a list of parameter values (warped if specified) by keys' order.\"\"\"\n",
    "  _verify_params(params, keys)\n",
    "  if warp_func:\n",
    "    values = [\n",
    "        warp_func[key](params[key]) if key in warp_func else params[key]\n",
    "        for key in keys\n",
    "    ]\n",
    "  else:\n",
    "    values = [params[key] for key in keys]\n",
    "  return values"
   ]
  },
  {
   "cell_type": "markdown",
   "metadata": {
    "id": "gNL6sYZrizPX"
   },
   "source": [
    "Next, we will implement the zero mean function."
   ]
  },
  {
   "cell_type": "code",
   "execution_count": null,
   "metadata": {
    "id": "wLw9MdZHdXeK"
   },
   "outputs": [],
   "source": [
    "def mean_vector(mean_func):\n",
    "  \"\"\"Decorator to mean functions to obtain the mean vector.\"\"\"\n",
    "\n",
    "  @functools.wraps(mean_func)\n",
    "  def vector_map(params, vx, warp_func=None):\n",
    "    \"\"\"Returns the mean vector of input array vx.\n",
    "\n",
    "    Args:\n",
    "      params: parameters for the mean function.\n",
    "      vx: n x d dimensional input array representing n data points.\n",
    "      warp_func: optional dictionary that specifies the warping function for\n",
    "        each parameter.\n",
    "\n",
    "    Returns:\n",
    "      The n dimensional mean vector derived from mean function evaluations\n",
    "        on every input from vx.\n",
    "    \"\"\"\n",
    "    # pylint: disable=unnecessary-lambda\n",
    "    parameterized_mean_func = lambda x: mean_func(params, x, warp_func)\n",
    "    return vmap(parameterized_mean_func)(vx)\n",
    "\n",
    "  return vector_map\n",
    "\n",
    "\n",
    "@mean_vector\n",
    "def constant_mean(params, _, warp_func=None):\n",
    "  \"\"\"Constant mean function.\"\"\"\n",
    "  (val,) = retrieve_params(params, ['constant'], warp_func)\n",
    "  return jnp.full((1,), val)"
   ]
  },
  {
   "cell_type": "markdown",
   "metadata": {
    "id": "Rx_-grk4jC6w"
   },
   "source": [
    "And the squared exponential kernel."
   ]
  },
  {
   "cell_type": "code",
   "execution_count": null,
   "metadata": {
    "id": "CQijo4taiU_Y"
   },
   "outputs": [],
   "source": [
    "def covariance_matrix(kernel):\n",
    "  \"\"\"Decorator to kernels to obtain the covariance matrix.\"\"\"\n",
    "\n",
    "  @functools.wraps(kernel)\n",
    "  def matrix_map(params, vx1, vx2=None, warp_func=None, diag=False):\n",
    "    \"\"\"Returns the kernel matrix of input array vx1 and input array vx2.\n",
    "\n",
    "    Args:\n",
    "      params: parameters for the kernel.\n",
    "      vx1: n1 x d dimensional input array representing n1 data points.\n",
    "      vx2: n2 x d dimensional input array representing n2 data points. If it is\n",
    "        not specified, vx2 is set to be the same as vx1.\n",
    "      warp_func: optional dictionary that specifies the warping function for\n",
    "        each parameter.\n",
    "      diag: flag for returning diagonal terms of the matrix (True) or the full\n",
    "        matrix (False).\n",
    "\n",
    "    Returns:\n",
    "      The n1 x n2 dimensional covariance matrix derived from kernel evaluations\n",
    "        on every pair of inputs from vx1 and vx2 by default. If diag=True and\n",
    "        vx2=None, it returns the diagonal terms of the n1 x n1 covariance\n",
    "        matrix.\n",
    "    \"\"\"\n",
    "    cov_func = functools.partial(kernel, params, warp_func=warp_func)\n",
    "    mmap = vmap(lambda x: vmap(lambda y: cov_func(x, y))(vx1))\n",
    "    if vx2 is None:\n",
    "      if diag:\n",
    "        return vmap(lambda x: cov_func(x, x))(vx1)\n",
    "      vx2 = vx1\n",
    "    return mmap(vx2).T\n",
    "\n",
    "  return matrix_map\n",
    "\n",
    "\n",
    "@covariance_matrix\n",
    "def squared_exponential_kernel(params, x1, x2, warp_func=None):\n",
    "  \"\"\"Squared exponential kernel: Eq.(4.9/13) of GPML book.\n",
    "\n",
    "  Args:\n",
    "    params: parameters for the kernel.\n",
    "    x1: a d-diemnsional vector that represent a single datapoint.\n",
    "    x2: a d-diemnsional vector that represent a single datapoint that can be the\n",
    "      same as or different from x1.\n",
    "    warp_func: optional dictionary that specifies the warping function for each\n",
    "      parameter.\n",
    "\n",
    "  Returns:\n",
    "    The kernel function evaluation on x1 and x2.\n",
    "  \"\"\"\n",
    "  params_keys = ['lengthscale', 'signal_variance']\n",
    "  lengthscale, signal_variance = retrieve_params(params, params_keys, warp_func)\n",
    "  r2 = jnp.sum(((x1 - x2) / lengthscale) ** 2)\n",
    "  return signal_variance * jnp.exp(-r2 / 2)"
   ]
  },
  {
   "cell_type": "markdown",
   "metadata": {
    "id": "Tqpig_0jjJZ2"
   },
   "source": [
    "Finally, we will implement posterior prediction."
   ]
  },
  {
   "cell_type": "code",
   "execution_count": null,
   "metadata": {
    "id": "jRJA465xilsS"
   },
   "outputs": [],
   "source": [
    "def posterior_predict(\n",
    "    mean_func,\n",
    "    cov_func,\n",
    "    params,\n",
    "    x_query,\n",
    "    x_observed=None,\n",
    "    y_observed=None,\n",
    "    var_observed=None,\n",
    "    warp_func=None,\n",
    "    full_cov=False,\n",
    "):\n",
    "  \"\"\"Predict the gp for query points x_query conditioned on observations.\n",
    "\n",
    "  Args:\n",
    "    mean_func: mean function handle that maps from (params, n x d input,\n",
    "      warp_func) to an n dimensional mean vector. (see vector_map in mean.py for\n",
    "      more details).\n",
    "    cov_func: covariance function handle that maps from (params, n1 x d input1,\n",
    "      n2 x d input2, wrap_func) to a n1 x n2  covariance matrix (see matrix_map\n",
    "      in kernel.py for more details).\n",
    "    params: parameters for covariance, mean, and noise variance.\n",
    "    x_query: n' x d input array to be queried.\n",
    "    x_observed: observed n x d input array.\n",
    "    y_observed: observed n x 1 evaluations on the input x_observed.\n",
    "    var_observed: observed n x 1 heteroscedastic noise variance vector.\n",
    "    warp_func: optional dictionary that specifies the warping function for each\n",
    "      parameter.\n",
    "    full_cov: flag for returning full covariance if true or variance if false.\n",
    "\n",
    "  Returns:\n",
    "    Predicted posterior mean (n' x 1) and covariance (n' x n') (or n' x 1\n",
    "    variance terms if full_cov=False) for query points\n",
    "    x_query.\n",
    "  \"\"\"\n",
    "  if x_observed is None or x_observed.shape[0] == 0:\n",
    "    # Compute the prior distribution.\n",
    "    mu = mean_func(params, x_query, warp_func=warp_func)\n",
    "    cov = cov_func(params, x_query, warp_func=warp_func, diag=not full_cov)\n",
    "    if full_cov:\n",
    "      return mu, cov\n",
    "    else:\n",
    "      return mu, cov[:, None]\n",
    "  # One can potentially support rank-1 updates.\n",
    "  mu_observed = mean_func(params, x_observed, warp_func=warp_func)\n",
    "  cov_observed = cov_func(params, x_observed, warp_func=warp_func)\n",
    "  if var_observed is None:\n",
    "    (noise_variance,) = retrieve_params(\n",
    "        params, ['noise_variance'], warp_func=warp_func\n",
    "    )\n",
    "    cov_observed += jnp.eye(cov_observed.shape[0]) * (noise_variance)\n",
    "  else:\n",
    "    # Heteroscedastic noise variance.\n",
    "    cov_observed += jnp.diag(var_observed.flatten())\n",
    "  chol = jspla.cholesky(cov_observed, lower=True)\n",
    "  delta_y = y_observed - mu_observed\n",
    "  kinvy = jspla.cho_solve((chol, True), delta_y)\n",
    "  cov = cov_func(params, x_observed, x_query, warp_func=warp_func)\n",
    "  mu = jnp.dot(cov.T, kinvy) + mean_func(params, x_query, warp_func=warp_func)\n",
    "  v = jsp.linalg.solve_triangular(chol, cov, lower=True)\n",
    "  if full_cov:\n",
    "    cov = cov_func(params, x_query, warp_func=warp_func) - jnp.dot(v.T, v)\n",
    "    return mu, cov\n",
    "  else:\n",
    "    diagdot = vmap(lambda x: jnp.dot(x, x.T))\n",
    "    var = cov_func(params, x_query, warp_func=warp_func, diag=True) - diagdot(\n",
    "        v.T\n",
    "    )\n",
    "    return mu, var[:, None]"
   ]
  },
  {
   "cell_type": "markdown",
   "metadata": {
    "id": "19XQkiYTlMBG"
   },
   "source": [
    "And with that, we have a bare-bones implementation of a Gaussian process.\n",
    "\n",
    "Let us test our implementation on a toy regression dataset."
   ]
  },
  {
   "cell_type": "code",
   "execution_count": null,
   "metadata": {
    "id": "O_LO-e0o-7BZ"
   },
   "outputs": [],
   "source": [
    "import numpy as np\n",
    "import matplotlib.pyplot as plt\n",
    "import seaborn as sns\n",
    "\n",
    "# Generate noisy data from a known function.\n",
    "f = lambda x: np.exp(-x[..., 0] ** 2 / 20.0) * np.sin(1.0 * x[..., 0])\n",
    "\n",
    "num_queries = 500\n",
    "x_query = np.linspace(-13, 13, num_queries).reshape(num_queries, 1)\n",
    "f_query = f(x_query)"
   ]
  },
  {
   "cell_type": "markdown",
   "metadata": {
    "id": "A1HOHiP0_vfd"
   },
   "source": [
    "Now that we have defined a known function we will generate noisy data."
   ]
  },
  {
   "cell_type": "code",
   "execution_count": null,
   "metadata": {
    "colab": {
     "base_uri": "https://localhost:8080/",
     "height": 326
    },
    "id": "FsElTkAM_gfq",
    "outputId": "402a4b89-39fc-4f23-a1d9-8d526104e86a"
   },
   "outputs": [
    {
     "data": {
      "image/png": "[encoded data removed]",
      "text/plain": [
       "<Figure size 500x350 with 1 Axes>"
      ]
     },
     "metadata": {},
     "output_type": "display_data"
    }
   ],
   "source": [
    "np.random.seed(42)\n",
    "\n",
    "num_observations = 20\n",
    "noise_variance = 5e-2**2\n",
    "\n",
    "x_observed = np.random.uniform(-6.0, 10, num_observations).reshape(num_observations, 1)\n",
    "y_observed = f(x_observed)\n",
    "y_observed += np.random.normal(0.0, np.sqrt(noise_variance), num_observations)\n",
    "\n",
    "# Plot known function and noisy data.\n",
    "plt.figure(figsize=(5, 3.5))\n",
    "plt.plot(x_query, f(x_query[:, None]), 'k-', label='$f(x)$')\n",
    "plt.scatter(x_observed, y_observed, color='r', marker='.', label='$D$')\n",
    "plt.legend(loc='upper left', frameon=False)\n",
    "plt.xlabel('$x$')\n",
    "plt.ylabel('$y$')\n",
    "plt.xlim(-13,13)\n",
    "plt.ylim(-3, 5)\n",
    "plt.xticks([])\n",
    "plt.yticks([])\n",
    "sns.despine()\n",
    "plt.show()"
   ]
  },
  {
   "cell_type": "markdown",
   "metadata": {
    "id": "9xzO3zSTsFow"
   },
   "source": [
    "Fit a Gaussian process regression model on the full dataset and plot the posterior predictive distribution."
   ]
  },
  {
   "cell_type": "code",
   "execution_count": null,
   "metadata": {
    "colab": {
     "base_uri": "https://localhost:8080/",
     "height": 326
    },
    "id": "OIzSfFwDm0Gr",
    "outputId": "e348e03a-528c-41fe-b82b-04761bb89910"
   },
   "outputs": [
    {
     "data": {
      "image/png": "[encoded data removed]",
      "text/plain": [
       "<Figure size 500x350 with 1 Axes>"
      ]
     },
     "metadata": {},
     "output_type": "display_data"
    }
   ],
   "source": [
    "# Compute the posterior predicive distribution\n",
    "mu, var = posterior_predict(\n",
    "    mean_func=constant_mean,\n",
    "    cov_func=squared_exponential_kernel,\n",
    "    params={\n",
    "        'constant': 0.0,\n",
    "        'lengthscale': 1.0,\n",
    "        'signal_variance': 1.0,\n",
    "        'noise_variance': noise_variance,\n",
    "    },\n",
    "    x_query=x_query,\n",
    "    x_observed=x_observed,\n",
    "    y_observed=y_observed.reshape(num_observations, 1),\n",
    "    var_observed=None,\n",
    "    warp_func=None,\n",
    "    full_cov=False,\n",
    ")\n",
    "\n",
    "mu = mu[:, 0]\n",
    "std = var[:, 0] ** 0.5\n",
    "\n",
    "# Plot the posterior predictive distribution.\n",
    "plt.figure(figsize=(5, 3.5))\n",
    "plt.plot(x_query, f(x_query), 'k-', label='$f(x)$')\n",
    "plt.plot(x_query, mu, 'r-', label='$\\mu_{p(y|x,D)}$')\n",
    "plt.fill_between(x_query[:, 0], mu - 2 * std, mu + 2 * std, color='r', alpha=0.1, label='$2\\sigma_{p(y|x,D)}$')\n",
    "plt.scatter(x_observed, y_observed, color='r', marker='.', label='$D$')\n",
    "plt.legend(loc='upper left', frameon=False)\n",
    "plt.xlabel('$x$')\n",
    "plt.ylabel('$y$')\n",
    "plt.xticks([])\n",
    "plt.yticks([])\n",
    "plt.xlim(-13,13)\n",
    "plt.ylim(-3, 5)\n",
    "sns.despine()\n",
    "plt.show()"
   ]
  },
  {
   "cell_type": "markdown",
   "metadata": {
    "id": "nJE9oVdGAnTV"
   },
   "source": [
    "The black line is the true function, the red markers are the observed data, the red line is the mean of the posterior predictive distribution, and the red bands are two standard deviations around the mean. Notice that in regions where there are more observations, the variability is smaller.\n",
    "\n",
    "Finally, we will visualize how uncertainty changes as we progressively observe more data."
   ]
  },
  {
   "cell_type": "code",
   "execution_count": null,
   "metadata": {
    "colab": {
     "base_uri": "https://localhost:8080/",
     "height": 326
    },
    "id": "UrPGR5Z6-aT-",
    "outputId": "ddca1c81-4438-4254-8aec-e67d7d18668f"
   },
   "outputs": [
    {
     "data": {
      "image/png": "[encoded data removed]",
      "text/plain": [
       "<Figure size 1500x350 with 3 Axes>"
      ]
     },
     "metadata": {},
     "output_type": "display_data"
    }
   ],
   "source": [
    "plt.figure(figsize=(15, 3.5))\n",
    "\n",
    "for i, num_subset in enumerate([0, 10, 20]):\n",
    "  x_observed_subset = x_observed[:num_subset]\n",
    "  y_observed_subset = y_observed[:num_subset]\n",
    "\n",
    "  mu, var = posterior_predict(\n",
    "      mean_func=constant_mean,\n",
    "      cov_func=squared_exponential_kernel,\n",
    "      params={\n",
    "          'constant': 0.0,\n",
    "          'lengthscale': 1.0,\n",
    "          'signal_variance': 1.0,\n",
    "          'noise_variance': noise_variance,\n",
    "      },\n",
    "      x_query=x_query,\n",
    "      x_observed=x_observed_subset,\n",
    "      y_observed=y_observed_subset.reshape(num_subset, 1),\n",
    "      var_observed=None,\n",
    "      warp_func=None,\n",
    "      full_cov=False,\n",
    "  )\n",
    "\n",
    "  mu = mu[:, 0]\n",
    "  std = var[:, 0] ** 0.5\n",
    "\n",
    "  # Plot the posterior predictive distribution.\n",
    "  plt.subplot(131 + i)\n",
    "  plt.plot(x_query, f(x_query), 'k-', label='$f(x)$')\n",
    "  plt.plot(x_query, mu, 'r-', label='$\\mu_{p(y|x,D)}$')\n",
    "  plt.fill_between(x_query[:, 0], mu - 2 * std, mu + 2 * std, color='r', alpha=0.1, label='$2\\sigma_{p(y|x,D)}$')\n",
    "  plt.scatter(x_observed_subset, y_observed_subset, color='r', marker='.', label='$D$')\n",
    "  plt.legend(loc='upper left', frameon=False)\n",
    "  plt.xlabel('$x$')\n",
    "  plt.ylabel('$y$')\n",
    "  plt.xticks([])\n",
    "  plt.yticks([])\n",
    "  plt.xlim(-13,13)\n",
    "  plt.ylim(-3, 5)\n",
    "  sns.despine()"
   ]
  },
  {
   "cell_type": "code",
   "execution_count": null,
   "metadata": {
    "id": "s7Za6DAvEAbR"
   },
   "outputs": [],
   "source": []
  }
 ],
 "metadata": {
  "colab": {
   "provenance": []
  },
  "kernelspec": {
   "display_name": "Python 3 (ipykernel)",
   "language": "python",
   "name": "python3"
  },
  "language_info": {
   "codemirror_mode": {
    "name": "ipython",
    "version": 3
   },
   "file_extension": ".py",
   "mimetype": "text/x-python",
   "name": "python",
   "nbconvert_exporter": "python",
   "pygments_lexer": "ipython3",
   "version": "3.11.8"
  }
 },
 "nbformat": 4,
 "nbformat_minor": 4
}
